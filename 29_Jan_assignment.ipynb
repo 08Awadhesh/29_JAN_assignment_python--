{
 "cells": [
  {
   "cell_type": "markdown",
   "id": "81e8422c-94f5-4148-915a-b5fe9dc7f4a4",
   "metadata": {},
   "source": [
    "**Q1**.Who develeped python programing language ."
   ]
  },
  {
   "cell_type": "markdown",
   "id": "abce26d5-49f7-42e7-b33b-1680f43f2f50",
   "metadata": {},
   "source": [
    "**Answer**.Python programming language was created by Guido van Rossum in the late 1980s while he was working at the National Research Institute for Mathematics and Computer Science in the Netherlands. The first version of Python, version 0.9.0, was released in 1991. Since then, Python has evolved and become one of the most popular and widely-used programming languages in the world."
   ]
  },
  {
   "cell_type": "markdown",
   "id": "950532f5-5823-4fe4-a352-3d6790ef0bd2",
   "metadata": {},
   "source": [
    "**Q2**.Which type of programming does python support?"
   ]
  },
  {
   "cell_type": "markdown",
   "id": "dd7efd77-a41d-40ee-b56a-eee44c35ebe9",
   "metadata": {},
   "source": [
    "**Answer** Python supports multiple programming paradigms, including:\n",
    "\n",
    "1.Procedural programming\n",
    "\n",
    "2.Object-oriented programming\n",
    "\n",
    "3.Functional programming\n"
   ]
  },
  {
   "cell_type": "markdown",
   "id": "4e5d0121-fc45-4245-bdd4-1bbeb4e44d7e",
   "metadata": {},
   "source": [
    "**Q3**.Is python case senstive when dealing with identifires?\n",
    "\n",
    "**Answer**.es, Python is a case-sensitive programming language when it comes to identifiers such as variable names, function names, and class names"
   ]
  },
  {
   "cell_type": "markdown",
   "id": "37dec931-2d04-4f02-8163-ade975b59f1b",
   "metadata": {},
   "source": [
    "**Q4**.What is the correct extension of python file?\n",
    "\n",
    "**Answer** The correct file extension for Python files is \".py\".\n"
   ]
  },
  {
   "cell_type": "markdown",
   "id": "3e87bcd3-df0f-49f4-9aea-98fc80dc9a7d",
   "metadata": {},
   "source": [
    "**Q5**.Is python code complied or interpreted?\n",
    "\n",
    "**Answer**.Python code is interpreted, not compiled. When you run a Python program, the Python interpreter reads the source code of the program line by line and executes each line as it reads it."
   ]
  },
  {
   "cell_type": "markdown",
   "id": "106500a2-ba21-4659-ac54-d9a5a244c90c",
   "metadata": {},
   "source": [
    "**Q6**.Name of a few blocks of code used to define in python \n",
    "\n",
    "**Answer**.In Python, code blocks are defined using indentation rather than explicit block delimiters like curly braces or keywords. The most commonly used code blocks in Python include:\n",
    "\n",
    "1.Function blocks: These are code blocks that define a function using the def keyword. The code within a function block is executed when the function is called.\n",
    "\n",
    "2.Conditional blocks: These are code blocks that are executed based on a condition using the if, elif, and else keywords. The code within a conditional block is executed only if the condition is true.\n",
    "\n",
    "3.Looping blocks: These are code blocks that are executed repeatedly using for and while loops. The code within a looping block is executed once for each iteration of the loop."
   ]
  },
  {
   "cell_type": "markdown",
   "id": "b704d3e9-d8fb-46a4-a93c-e36511a369d3",
   "metadata": {},
   "source": [
    "**Q7**.State a character used to give single line cooments in python ?\n",
    "\n",
    "**Answer**.  ## is used to give single line cooments."
   ]
  },
  {
   "cell_type": "markdown",
   "id": "9b7f881e-8528-4f01-8de2-d9bb677ec5a0",
   "metadata": {},
   "source": [
    "**Q8**.Mention functions which can help us to find the virsion of python that we are currently working .\n",
    "\n",
    "**Answer**.In Python, you can use the sys module to get the version information of the currently running Python interpreter."
   ]
  },
  {
   "cell_type": "code",
   "execution_count": 2,
   "id": "e8c32e94-64f6-4fa3-9c8d-98661b280403",
   "metadata": {},
   "outputs": [
    {
     "name": "stdout",
     "output_type": "stream",
     "text": [
      "Python Verions\n",
      "3.10.8 | packaged by conda-forge | (main, Nov 22 2022, 08:26:04) [GCC 10.4.0]\n"
     ]
    }
   ],
   "source": [
    "##Example\n",
    "import sys \n",
    "\n",
    "print(\"Python Verions\")\n",
    "print(sys.version)"
   ]
  },
  {
   "cell_type": "markdown",
   "id": "3a66b787-cb02-4a48-8d9a-441c55e0438e",
   "metadata": {},
   "source": [
    "**Q9**.Python supports the creation of anonymous functions at runtime ,using a constructer called _______\n",
    "\n",
    "**Answer**. Python supports the creation of anonymous functions at runtime using a constructor called lambda."
   ]
  },
  {
   "cell_type": "markdown",
   "id": "9cad022e-3287-4791-a172-fdaa696e2639",
   "metadata": {},
   "source": [
    "**Q10**.What does pip stand for python?\n",
    "\n",
    "**Answer**. In Python, pip stands for \"Pip Installs Packages\". It is a package management system used to install and manage software packages written in Python."
   ]
  },
  {
   "cell_type": "markdown",
   "id": "e0163d07-0031-47d9-ac7d-3610ddb6e0dc",
   "metadata": {},
   "source": [
    "**Q11**.Mention a few built in functions in python ?\n",
    "\n",
    "**Answer**. Here are a few examples of commonly used built-in functions in Python:\n",
    "\n",
    "1.print(): Used to display output to the console.\n",
    "\n",
    "2.len(): Returns the length of a string, list, or other iterable object.\n",
    "\n",
    "3.type(): Returns the type of an object.\n",
    "\n",
    "4.range(): Returns a sequence of numbers from start to end.\n",
    "\n",
    "5.input(): Used to get user input from the console.\n",
    "\n",
    "6.int(), float(), str(): Used to convert values to integer, float, or string types.\n",
    "\n",
    "7.max(), min(): Returns the maximum or minimum value in a list or other iterable object.\n",
    "\n",
    "8.abs(): Returns the absolute value of a number.\n",
    "\n",
    "9.sum(): Returns the sum of all elements in a list or other iterable object.\n",
    "\n",
    "10.sorted(): Returns a sorted list of elements in a list or other iterable object."
   ]
  },
  {
   "cell_type": "markdown",
   "id": "5f5ab58e-a86e-4faa-adc6-7a9ca9af4f81",
   "metadata": {},
   "source": [
    "**Q12**.What is the maximum possible length of an identifre in python?\n",
    "\n",
    "**Answer**.According to the Python documentation, identifiers can be any length and can contain letters (both uppercase and lowercase), digits, and underscores. However, it is generally recommended to keep identifiers relatively short and descriptive, in order to make code more readable and easier to understand."
   ]
  },
  {
   "cell_type": "markdown",
   "id": "67f5f455-2623-4d05-9f26-48677bd2e1b2",
   "metadata": {},
   "source": [
    "**Q13**.What are the benfites of using python ?\n",
    "\n",
    "**Answer**.**1** Easy to learn: Python is easy to learn and read, which makes it a great language for beginners. Its syntax is straightforward and easy to understand, and there is a large community of developers who can help you learn and troubleshoot any issues you may encounter.\n",
    "\n",
    "**2**.Versatile: Python can be used for a wide range of applications, including web development, data analysis, artificial intelligence, scientific computing, and more. It has a large number of third-party libraries and modules that can be used to extend its functionality and make development faster and more efficient.\n",
    "\n",
    "**3**.Open-source: Python is an open-source language, which means that its source code is freely available and can be modified and distributed by anyone. This makes it a great choice for startups and other organizations that may have limited budgets for software development.\n",
    "\n",
    "**4**.Large community: Python has a large and active community of developers and users, who contribute to its development, share code and resources, and provide support and guidance to others who are learning the language.\n",
    "\n",
    "**5** .Cross-platform: Python is a cross-platform language, which means that it can be used on a variety of operating systems, including Windows, Mac, and Linux.\n",
    "\n",
    "**6** .High-level language: Python is a high-level language, which means that it is designed to be easy to use and to abstract away the details of low-level programming. This makes it a great choice for rapid prototyping and development, as well as for building complex applicat"
   ]
  },
  {
   "cell_type": "markdown",
   "id": "5b5000d6-977e-4178-b40f-b00575424850",
   "metadata": {},
   "source": [
    "**Q14**.How is memory managed in python ?\n",
    "\n",
    "**Answer**. Memory management in Python is handled by a combination of techniques, including reference counting, garbage collection, and memory pooling. These techniques work together to ensure that memory is allocated and deallocated efficiently, and that the program's memory usage is optimized."
   ]
  },
  {
   "cell_type": "markdown",
   "id": "49751bc8-15c3-40e1-b630-794ecdd03c00",
   "metadata": {},
   "source": [
    "**Q15**.How to install python on windows and set path variables?\n",
    "\n",
    "**Answer**.Here are the steps to install Python on Windows and set the path variables:\n",
    "\n",
    "**1**.Download Python: Go to the Python download page (https://www.python.org/downloads/) and download the latest version of Python for Windows.\n",
    "\n",
    "**2**.Run the installer: Double-click on the downloaded installer to start the installation process. Follow the prompts to install Python to your computer.\n",
    "\n",
    "**3**.Add Python to the system PATH: During the installation process, you will be given the option to add Python to the system PATH. Make sure to select this option, as it will allow you to run Python from the command prompt or terminal.\n",
    "\n",
    "**4**.Verify the installation: After the installation is complete, open a command prompt or terminal and type python. If Python has been installed correctly, you should see the Python version number and a new Python prompt.\n",
    "\n",
    "**5**.Set environment variables: If you did not add Python to the system PATH during installation, you can set the PATH variables manually by following these steps:\n",
    "\n",
    "**6**.Right-click on My Computer and select Properties.\n",
    "(I) Click on Advanced System Settings.\n",
    "(II) Click on the Environment Variables button.\n",
    "(III) Under System Variables, scroll down to find the PATH variable and click on Edit.\n",
    "(IV) Add the path to the Python installation directory (e.g. C:\\PythonXX) to the PATH variable, separating it from other paths with a semicolon.\n",
    "(V) Click OK to save the changes and close the Environment Variables dialog.\n",
    "\n",
    "\n",
    "\n"
   ]
  },
  {
   "cell_type": "markdown",
   "id": "8390d3f4-5422-41ec-9dd3-28f2d0222bc6",
   "metadata": {},
   "source": [
    "**Q16**. Is indetntiation required in python ?\n",
    "\n",
    "**Answer**.Yes, indentation is required in Python. In fact, it is a key feature of the language and is used to indicate the scope and hierarchy of code blocks.In Python, statements that are at the same level of indentation are considered to be part of the same code block. "
   ]
  },
  {
   "cell_type": "code",
   "execution_count": null,
   "id": "a2b4e1f1-4358-4d87-b04e-b2a9ed9cf5a2",
   "metadata": {},
   "outputs": [],
   "source": []
  }
 ],
 "metadata": {
  "kernelspec": {
   "display_name": "Python 3 (ipykernel)",
   "language": "python",
   "name": "python3"
  },
  "language_info": {
   "codemirror_mode": {
    "name": "ipython",
    "version": 3
   },
   "file_extension": ".py",
   "mimetype": "text/x-python",
   "name": "python",
   "nbconvert_exporter": "python",
   "pygments_lexer": "ipython3",
   "version": "3.10.8"
  }
 },
 "nbformat": 4,
 "nbformat_minor": 5
}
